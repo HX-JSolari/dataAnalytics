{
 "cells": [
  {
   "attachments": {},
   "cell_type": "markdown",
   "metadata": {},
   "source": [
    "## Clases y Programación Orientada a Objetos"
   ]
  },
  {
   "attachments": {},
   "cell_type": "markdown",
   "metadata": {},
   "source": [
    "1) Crear la clase vehículo que contenga los atributos:<br>\n",
    "Color<br>\n",
    "Si es moto, auto, camioneta ó camión<br>\n",
    "Cilindrada del motor"
   ]
  },
  {
   "cell_type": "code",
   "execution_count": 1,
   "metadata": {},
   "outputs": [],
   "source": [
    "class Vehiculo:\n",
    "    def __init__(self, color, tipo_rodado, cilindrada): \n",
    "        self.color = color\n",
    "        self.tipo_rodado = tipo_rodado\n",
    "        self.cilindrada = cilindrada\n",
    "\n",
    "# Constructor\n",
    "# __init__ - esta es mi matriz. Los objetos van a salir de este constructor.\n",
    "# (self) es como el this -> apunta a Vehiculo"
   ]
  },
  {
   "attachments": {},
   "cell_type": "markdown",
   "metadata": {},
   "source": [
    "2) A la clase Vehiculo creada en el punto 1, agregar los siguientes métodos:<br>\n",
    "Acelerar<br>\n",
    "Frenar<br>\n",
    "Doblar<br>"
   ]
  },
  {
   "cell_type": "code",
   "execution_count": 2,
   "metadata": {},
   "outputs": [],
   "source": [
    "class Vehiculo:\n",
    "    def __init__(self, color, tipo_rodado, cilindrada):\n",
    "        self.color = color\n",
    "        self.tipo_rodado = tipo_rodado\n",
    "        self.cilindrada = cilindrada\n",
    "    \n",
    "    def acelerar():\n",
    "        print(\"Acelerar\")\n",
    "    \n",
    "    def frenar():\n",
    "        print(\"Frenar\")\n",
    "    \n",
    "    def doblar():\n",
    "        print(\"Doblar\")"
   ]
  },
  {
   "attachments": {},
   "cell_type": "markdown",
   "metadata": {},
   "source": [
    "3) Instanciar 3 objetos de la clase vehículo y ejecutar sus métodos, probar luego el resultado"
   ]
  },
  {
   "cell_type": "code",
   "execution_count": 4,
   "metadata": {},
   "outputs": [
    {
     "name": "stdout",
     "output_type": "stream",
     "text": [
      "Doblar\n",
      "Frenar\n",
      "Acelerar\n"
     ]
    }
   ],
   "source": [
    "auto = Vehiculo(\"Negro\", \"Moto\", 400)\n",
    "moto = Vehiculo(\"Blanco\", \"Auto\", 1400)\n",
    "camioneta = Vehiculo(\"Verde\", \"Camioneta\", 2400)\n",
    "\n",
    "auto.doblar() # Metodo de instancia. El que aplico directamente al objeto. Sino metodo de clase Import From\n",
    "moto.frenar()\n",
    "camioneta.acelerar()\n"
   ]
  },
  {
   "attachments": {},
   "cell_type": "markdown",
   "metadata": {},
   "source": [
    "4) Agregar a la clase Vehiculo, un método que muestre su estado, es decir, a que velocidad se encuentra y su dirección. Y otro método que muestre color, tipo y cilindrada"
   ]
  },
  {
   "cell_type": "code",
   "execution_count": 7,
   "metadata": {},
   "outputs": [],
   "source": [
    "class Vehiculo:\n",
    "    def __init__(self, color, tipo_rodado, cilindrada, velocidad = 0, direccion = \"recta\"):\n",
    "        self.color = color\n",
    "        self.tipo_rodado = tipo_rodado\n",
    "        self.cilindrada = cilindrada\n",
    "        self.__velocidad = velocidad\n",
    "        self.direccion = direccion\n",
    "    \n",
    "    def acelerar(self):\n",
    "        self.__velocidad += 10\n",
    "    \n",
    "    def frenar(self):\n",
    "        self.__velocidad -= 10\n",
    "    \n",
    "    def doblar(self, direccion):\n",
    "        if direccion:\n",
    "            self.direccion = direccion\n",
    "        print(self.direccion)\n",
    "\n",
    "    def estado_velocidad(self):\n",
    "        print(f'La velocidad es: {self.__velocidad} y el vehiculo va en direccion: {self.direccion}')\n",
    "    \n",
    "    def get_status(self):\n",
    "        print(f'{self.color}, {self.tipo_rodado} y {self.cilindrada}')\n",
    "\n",
    "\n",
    "        "
   ]
  },
  {
   "attachments": {},
   "cell_type": "markdown",
   "metadata": {},
   "source": [
    "5) Crear una clase que permita utilizar las funciones creadas en la práctica del módulo 7<br>\n",
    "Verificar Primo<br>\n",
    "Valor modal<br>\n",
    "Conversión grados<br>\n",
    "Factorial<br>"
   ]
  },
  {
   "cell_type": "code",
   "execution_count": null,
   "metadata": {},
   "outputs": [],
   "source": [
    "def verifica_primo(nro):\n",
    "    es_primo = True  # Variable para almacenar el resultado de la verificación de número primo\n",
    "    for i in range(2, nro):  # Iteración sobre los números desde 2 hasta nro-1\n",
    "        if nro % i == 0:  # Verificación si nro es divisible por i (no es primo)\n",
    "            es_primo = False  # Se marca la variable como False indicando que el número no es primo\n",
    "            break  # Se rompe el bucle ya que no es necesario continuar la verificación\n",
    "    return es_primo  # Se devuelve el resultado de la verificación de número primo\n",
    "\n",
    "def valor_modal(lista):\n",
    "    lista_unicos = []  # Lista para almacenar los elementos únicos de la lista\n",
    "    lista_repeticiones = []  # Lista para almacenar las repeticiones de cada elemento único\n",
    "    if len(lista) == 0:  # Verificación si la lista está vacía\n",
    "        return None  # Si la lista está vacía, se devuelve None\n",
    "    for elemento in lista:  # Iteración sobre cada elemento de la lista\n",
    "        if elemento in lista_unicos:  # Verificación si el elemento ya está en la lista de únicos\n",
    "            i = lista_unicos.index(elemento)  # Se obtiene el índice del elemento en la lista de únicos\n",
    "            lista_repeticiones[i] += 1  # Se incrementa el contador de repeticiones para ese elemento\n",
    "        else:\n",
    "            lista_unicos.append(elemento)  # Si es un elemento único, se agrega a la lista de únicos\n",
    "            lista_repeticiones.append(1)  # Se inicializa el contador de repeticiones para ese elemento en 1\n",
    "    moda = lista_unicos[0]  # Se asume que el primer elemento de la lista de únicos es la moda inicialmente\n",
    "    maximo = lista_repeticiones[0]  # Se asume que el primer contador de repeticiones es el máximo inicialmente\n",
    "    for i, elemento in enumerate(lista_unicos):  # Iteración sobre cada elemento único y su índice\n",
    "        if lista_repeticiones[i] > maximo:  # Verificación si el contador de repeticiones es mayor al máximo actual\n",
    "            moda = lista_unicos[i]  # Se actualiza la moda con el nuevo elemento con más repeticiones\n",
    "            maximo = lista_repeticiones[i]  # Se actualiza el máximo con el nuevo contador de repeticiones mayor\n",
    "    return moda, maximo  # Se devuelve la moda y el máximo de repeticiones como una tupla\n"
   ]
  },
  {
   "attachments": {},
   "cell_type": "markdown",
   "metadata": {},
   "source": [
    "6) Probar las funciones incorporadas en la clase del punto 5"
   ]
  },
  {
   "cell_type": "code",
   "execution_count": null,
   "metadata": {},
   "outputs": [],
   "source": []
  },
  {
   "attachments": {},
   "cell_type": "markdown",
   "metadata": {},
   "source": [
    "7) Crear un archivo .py aparte y ubicar allí la clase generada en el punto anterior. Luego realizar la importación del módulo y probar alguna de sus funciones"
   ]
  },
  {
   "cell_type": "code",
   "execution_count": null,
   "metadata": {},
   "outputs": [],
   "source": []
  }
 ],
 "metadata": {
  "interpreter": {
   "hash": "c85384e4cb51c8b72350f3a8712cc8351fdc3955e32a27f9b60c6242ab125f01"
  },
  "kernelspec": {
   "display_name": "Python 3 (ipykernel)",
   "language": "python",
   "name": "python3"
  },
  "language_info": {
   "codemirror_mode": {
    "name": "ipython",
    "version": 3
   },
   "file_extension": ".py",
   "mimetype": "text/x-python",
   "name": "python",
   "nbconvert_exporter": "python",
   "pygments_lexer": "ipython3",
   "version": "3.10.11"
  }
 },
 "nbformat": 4,
 "nbformat_minor": 4
}
