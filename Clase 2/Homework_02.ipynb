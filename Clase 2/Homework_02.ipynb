{
 "cells": [
  {
   "attachments": {},
   "cell_type": "markdown",
   "metadata": {},
   "source": [
    "## Flujos de Control"
   ]
  },
  {
   "attachments": {},
   "cell_type": "markdown",
   "metadata": {},
   "source": [
    "1) Crear una variable que contenga un elemento del conjunto de números enteros y luego imprimir por pantalla si es mayor o menor a cero"
   ]
  },
  {
   "cell_type": "code",
   "execution_count": 1,
   "metadata": {},
   "outputs": [
    {
     "name": "stdout",
     "output_type": "stream",
     "text": [
      "True\n"
     ]
    }
   ],
   "source": [
    "num = 10\n",
    "\n",
    "print(num > 0)"
   ]
  },
  {
   "attachments": {},
   "cell_type": "markdown",
   "metadata": {},
   "source": [
    "2) Crear dos variables y un condicional que informe si son del mismo tipo de dato"
   ]
  },
  {
   "cell_type": "code",
   "execution_count": 2,
   "metadata": {},
   "outputs": [
    {
     "name": "stdout",
     "output_type": "stream",
     "text": [
      "False\n"
     ]
    }
   ],
   "source": [
    "num=10\n",
    "str= \"Hola\"\n",
    "\n",
    "print(type(num) == type(str))"
   ]
  },
  {
   "attachments": {},
   "cell_type": "markdown",
   "metadata": {},
   "source": [
    "3) Para los valores enteros del 1 al 20, imprimir por pantalla si es par o impar"
   ]
  },
  {
   "cell_type": "code",
   "execution_count": 5,
   "metadata": {},
   "outputs": [
    {
     "name": "stdout",
     "output_type": "stream",
     "text": [
      "El numero 1 es IMPAR\n",
      "El numero 2 es PAR\n",
      "El numero 3 es IMPAR\n",
      "El numero 4 es PAR\n",
      "El numero 5 es IMPAR\n",
      "El numero 6 es PAR\n",
      "El numero 7 es IMPAR\n",
      "El numero 8 es PAR\n",
      "El numero 9 es IMPAR\n",
      "El numero 10 es PAR\n",
      "El numero 11 es IMPAR\n",
      "El numero 12 es PAR\n",
      "El numero 13 es IMPAR\n",
      "El numero 14 es PAR\n",
      "El numero 15 es IMPAR\n",
      "El numero 16 es PAR\n",
      "El numero 17 es IMPAR\n",
      "El numero 18 es PAR\n",
      "El numero 19 es IMPAR\n",
      "El numero 20 es PAR\n"
     ]
    }
   ],
   "source": [
    "for num in range(1,21):\n",
    "    if num % 2 == 0:\n",
    "        print(\"El numero\",num, \"es PAR\" )\n",
    "    else:\n",
    "        print(\"El numero\",num, \"es IMPAR\")"
   ]
  },
  {
   "attachments": {},
   "cell_type": "markdown",
   "metadata": {},
   "source": [
    "4) En un ciclo for mostrar para los valores entre 0 y 5 el resultado de elevarlo a la potencia igual a 3"
   ]
  },
  {
   "cell_type": "code",
   "execution_count": 6,
   "metadata": {},
   "outputs": [
    {
     "name": "stdout",
     "output_type": "stream",
     "text": [
      "0\n",
      "1\n",
      "8\n",
      "27\n",
      "64\n",
      "125\n"
     ]
    }
   ],
   "source": [
    "for num in range(0,6):\n",
    "    print(num ** 3)"
   ]
  },
  {
   "attachments": {},
   "cell_type": "markdown",
   "metadata": {},
   "source": [
    "5) Crear una variable que contenga un número entero y realizar un ciclo for la misma cantidad de ciclos"
   ]
  },
  {
   "cell_type": "code",
   "execution_count": 8,
   "metadata": {},
   "outputs": [
    {
     "name": "stdout",
     "output_type": "stream",
     "text": [
      "Cilo numero 0\n",
      "Cilo numero 1\n",
      "Cilo numero 2\n",
      "Cilo numero 3\n",
      "Cilo numero 4\n"
     ]
    }
   ],
   "source": [
    "num= 5\n",
    "for numero in range(num):\n",
    "    print(\"Cilo numero\", numero)"
   ]
  },
  {
   "attachments": {},
   "cell_type": "markdown",
   "metadata": {},
   "source": [
    "6) Utilizar un ciclo while para realizar el factorial de un número guardado en una variable, sólo si la variable contiene un número entero mayor a 0"
   ]
  },
  {
   "cell_type": "code",
   "execution_count": 20,
   "metadata": {},
   "outputs": [
    {
     "name": "stdout",
     "output_type": "stream",
     "text": [
      "El factorial es 720\n"
     ]
    }
   ],
   "source": [
    "num= 6\n",
    "\n",
    "if num > 0:\n",
    "    factorial = num\n",
    "    while num > 2:\n",
    "        num-=1\n",
    "        factorial = factorial * num\n",
    "    print(\"El factorial es\", factorial)\n",
    "else:\n",
    "    print(\"El numero no es mayor a 0\")\n"
   ]
  },
  {
   "attachments": {},
   "cell_type": "markdown",
   "metadata": {},
   "source": [
    "7) Crear un ciclo for dentro de un ciclo while"
   ]
  },
  {
   "cell_type": "code",
   "execution_count": 1,
   "metadata": {},
   "outputs": [
    {
     "name": "stdout",
     "output_type": "stream",
     "text": [
      "Adios 5\n"
     ]
    }
   ],
   "source": [
    "while True:\n",
    "    for i in range(7):\n",
    "        if i < 5:\n",
    "            continue\n",
    "        else:\n",
    "            break\n",
    "    print(\"Adios\", i)\n",
    "    break\n",
    "    "
   ]
  },
  {
   "attachments": {},
   "cell_type": "markdown",
   "metadata": {},
   "source": [
    "8) Crear un ciclo while dentro de un ciclo for"
   ]
  },
  {
   "cell_type": "code",
   "execution_count": 3,
   "metadata": {},
   "outputs": [
    {
     "name": "stdout",
     "output_type": "stream",
     "text": [
      "0\n",
      "1\n",
      "2\n",
      "3\n",
      "4\n",
      "5\n",
      "6\n",
      "7\n",
      "Esta fue la ultima iteracion\n"
     ]
    }
   ],
   "source": [
    "for num in range(8):\n",
    "    print(num)\n",
    "    while num == 7:\n",
    "        print(\"Esta fue la ultima iteracion\")\n",
    "        num+=1"
   ]
  },
  {
   "attachments": {},
   "cell_type": "markdown",
   "metadata": {},
   "source": [
    "9) Imprimir los números primos existentes entre 0 y 30"
   ]
  },
  {
   "cell_type": "code",
   "execution_count": 11,
   "metadata": {},
   "outputs": [
    {
     "name": "stdout",
     "output_type": "stream",
     "text": [
      "0\n",
      "1\n",
      "2\n",
      "3\n",
      "5\n",
      "7\n",
      "11\n",
      "13\n",
      "17\n",
      "19\n",
      "23\n",
      "29\n"
     ]
    }
   ],
   "source": [
    "# Esta solucion planteada, imprime 0 y 1, lo que esta mal ya que ninguno de los dos son primos.\n",
    "tope_rango=30\n",
    "n = 0\n",
    "primo = True\n",
    "while (n < tope_rango):\n",
    "    for div in range(2, n): # Al terminar le rango en n, este no se ejecutara hasta que n sea mayor a 2.\n",
    "        if (n % div == 0):\n",
    "            primo = False\n",
    "    if (primo):\n",
    "        print(n)\n",
    "    else:\n",
    "        primo = True\n",
    "    n += 1"
   ]
  },
  {
   "attachments": {},
   "cell_type": "markdown",
   "metadata": {},
   "source": [
    "10) ¿Se puede mejorar el proceso del punto 9? Utilizar las sentencias break y/ó continue para tal fin"
   ]
  },
  {
   "cell_type": "code",
   "execution_count": null,
   "metadata": {},
   "outputs": [],
   "source": []
  },
  {
   "attachments": {},
   "cell_type": "markdown",
   "metadata": {},
   "source": [
    "11) Aplicando continue, armar un ciclo while que solo imprima los valores divisibles por 12, dentro del rango de números de 100 a 300"
   ]
  },
  {
   "cell_type": "code",
   "execution_count": 12,
   "metadata": {},
   "outputs": [
    {
     "name": "stdout",
     "output_type": "stream",
     "text": [
      "108, es divisible por 12\n",
      "120, es divisible por 12\n",
      "132, es divisible por 12\n",
      "144, es divisible por 12\n",
      "156, es divisible por 12\n",
      "168, es divisible por 12\n",
      "180, es divisible por 12\n",
      "192, es divisible por 12\n",
      "204, es divisible por 12\n",
      "216, es divisible por 12\n",
      "228, es divisible por 12\n",
      "240, es divisible por 12\n",
      "252, es divisible por 12\n",
      "264, es divisible por 12\n",
      "276, es divisible por 12\n",
      "288, es divisible por 12\n",
      "300, es divisible por 12\n"
     ]
    }
   ],
   "source": [
    "\"\"\"  Resolucion mia\n",
    "rango = 100\n",
    "while rango <= 300:\n",
    "    if(rango % 12 == 0):\n",
    "        print(f\"{rango}, es divisible por 12\")\n",
    "        rango+=1\n",
    "    else:\n",
    "        rango+=1 \n",
    "\"\"\"\n",
    "# Resolucion que va.\n",
    "rang = 99\n",
    "\n",
    "while (rang <= 300):\n",
    "    rang+=1\n",
    "    if(rang % 12 != 0):\n",
    "        continue\n",
    "    print(f\"{rang}, es divisible por 12\")\n",
    "\n"
   ]
  },
  {
   "attachments": {},
   "cell_type": "markdown",
   "metadata": {},
   "source": [
    "12) Crear un ciclo while que encuentre dentro del rango de 100 a 300 el primer número divisible por 3 y además múltiplo de 6"
   ]
  },
  {
   "cell_type": "code",
   "execution_count": 13,
   "metadata": {},
   "outputs": [
    {
     "name": "stdout",
     "output_type": "stream",
     "text": [
      "El numero es 102.\n"
     ]
    }
   ],
   "source": [
    "n = 100\n",
    "\n",
    "while (n <= 300):\n",
    "    if(n % 3 == 0 and n % 6 == 0):\n",
    "        print(f\"El numero es {n}.\")\n",
    "        break\n",
    "    else:\n",
    "        n+=1"
   ]
  }
 ],
 "metadata": {
  "interpreter": {
   "hash": "c85384e4cb51c8b72350f3a8712cc8351fdc3955e32a27f9b60c6242ab125f01"
  },
  "kernelspec": {
   "display_name": "Python 3 (ipykernel)",
   "language": "python",
   "name": "python3"
  },
  "language_info": {
   "codemirror_mode": {
    "name": "ipython",
    "version": 3
   },
   "file_extension": ".py",
   "mimetype": "text/x-python",
   "name": "python",
   "nbconvert_exporter": "python",
   "pygments_lexer": "ipython3",
   "version": "3.10.11"
  }
 },
 "nbformat": 4,
 "nbformat_minor": 4
}
